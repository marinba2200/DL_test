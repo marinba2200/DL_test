{
  "nbformat": 4,
  "nbformat_minor": 0,
  "metadata": {
    "colab": {
      "name": "Ex_TF2.0 ANN MNIST.ipynb",
      "provenance": [],
      "collapsed_sections": [],
      "toc_visible": true,
      "include_colab_link": true
    },
    "kernelspec": {
      "name": "python3",
      "display_name": "Python 3"
    },
    "accelerator": "GPU"
  },
  "cells": [
    {
      "cell_type": "markdown",
      "metadata": {
        "id": "view-in-github",
        "colab_type": "text"
      },
      "source": [
        "<a href=\"https://colab.research.google.com/github/marinba2200/DL_test/blob/main/Ex_TF2_0_ANN_MNIST.ipynb\" target=\"_parent\"><img src=\"https://colab.research.google.com/assets/colab-badge.svg\" alt=\"Open In Colab\"/></a>"
      ]
    },
    {
      "cell_type": "markdown",
      "metadata": {
        "id": "m_l-yozDNQ6d"
      },
      "source": [
        "# ANN MNIST"
      ]
    },
    {
      "cell_type": "markdown",
      "metadata": {
        "id": "MeMqq7MHXkbB"
      },
      "source": [
        "## Import library"
      ]
    },
    {
      "cell_type": "code",
      "metadata": {
        "id": "k1SrotGwaoB0",
        "colab": {
          "base_uri": "https://localhost:8080/"
        },
        "outputId": "a04ee966-c24b-4368-e847-18d880965828"
      },
      "source": [
        "import tensorflow as tf\n",
        "print(tf.__version__)"
      ],
      "execution_count": null,
      "outputs": [
        {
          "output_type": "stream",
          "text": [
            "2.3.0\n"
          ],
          "name": "stdout"
        }
      ]
    },
    {
      "cell_type": "markdown",
      "metadata": {
        "id": "Rp934GpxXsL0"
      },
      "source": [
        "## Import dataset"
      ]
    },
    {
      "cell_type": "code",
      "metadata": {
        "id": "1J1kPjvrazt6",
        "colab": {
          "base_uri": "https://localhost:8080/"
        },
        "outputId": "3dea74b6-ddec-493d-afff-ee23218586f7"
      },
      "source": [
        "# Load in the data\n",
        "mnist = tf.keras.datasets.mnist\n",
        "\n",
        "(x_train, y_train), (x_test, y_test) = mnist.load_data()\n",
        "x_train, x_test = x_train / 255.0, x_test / 255.0"
      ],
      "execution_count": null,
      "outputs": [
        {
          "output_type": "stream",
          "text": [
            "Downloading data from https://storage.googleapis.com/tensorflow/tf-keras-datasets/mnist.npz\n",
            "11493376/11490434 [==============================] - 0s 0us/step\n"
          ],
          "name": "stdout"
        }
      ]
    },
    {
      "cell_type": "code",
      "metadata": {
        "id": "aP4WQ3CJZpcV",
        "colab": {
          "base_uri": "https://localhost:8080/"
        },
        "outputId": "af0c1a47-3e2a-4543-bbe2-6ccfb573dd7a"
      },
      "source": [
        "print(\"x_train.shape:\", x_train.shape)\n",
        "print(\"x_test.shape:\", x_test.shape)"
      ],
      "execution_count": null,
      "outputs": [
        {
          "output_type": "stream",
          "text": [
            "x_train.shape: (60000, 28, 28)\n",
            "x_test.shape: (10000, 28, 28)\n"
          ],
          "name": "stdout"
        }
      ]
    },
    {
      "cell_type": "markdown",
      "metadata": {
        "id": "Eut7tLgRX6lK"
      },
      "source": [
        "## Build ANN\n",
        "\n",
        "1.   input shape = 28 x 28\n",
        "2.   units of first layer = 128 with relu\n",
        "3.   dropout = 20%\n",
        "4.   units of output layer = 10 with softmax\n",
        "5.   optimizer = adam'\n",
        "6.   loss = sparse_categorical_crossentropy\n",
        "7.   metrics = accuracy"
      ]
    },
    {
      "cell_type": "code",
      "metadata": {
        "id": "VEHJi0xXa2ar"
      },
      "source": [
        "# Build the model 方法1:一層一層建立model ann\n",
        "\n",
        "ann = tf.keras.models.Sequential()\n",
        "ann.add(tf.keras.layers.Flatten(input_shape=(28, 28)))  #Flatten() 攤平資料\n",
        "ann.add(tf.keras.layers.Dense(units=128, activation='relu'))  #relu防梯度消失\n",
        "ann.add(tf.keras.layers.Dropout(0.2)) #Dropout\n",
        "ann.add(tf.keras.layers.Dense(units=10, activation='softmax'))"
      ],
      "execution_count": null,
      "outputs": []
    },
    {
      "cell_type": "code",
      "metadata": {
        "id": "kJdqe2idv26o"
      },
      "source": [
        "# Compile the ann\n",
        "ann.compile(optimizer='adam', loss='sparse_categorical_crossentropy', metrics=['accuracy'])"
      ],
      "execution_count": null,
      "outputs": []
    },
    {
      "cell_type": "code",
      "metadata": {
        "id": "hdXbXw92a9BA"
      },
      "source": [
        "# Compile the model 方法2:一次定義model\n",
        "model = tf.keras.models.Sequential([\n",
        "  tf.keras.layers.Flatten(input_shape=(28, 28)),\n",
        "  tf.keras.layers.Dense(128, activation='relu'),\n",
        "  tf.keras.layers.Dropout(0.2),\n",
        "  tf.keras.layers.Dense(10, activation='softmax')\n",
        "])"
      ],
      "execution_count": null,
      "outputs": []
    },
    {
      "cell_type": "code",
      "metadata": {
        "id": "vQo59fybvwgh"
      },
      "source": [
        "# Compile the model\n",
        "model.compile(optimizer='adam', loss='sparse_categorical_crossentropy', metrics=['accuracy']) \n",
        "#因為二元分類，所以用loss='sparse_categorical_crossentropy'"
      ],
      "execution_count": null,
      "outputs": []
    },
    {
      "cell_type": "markdown",
      "metadata": {
        "id": "jfhng_0dzU_3"
      },
      "source": [
        "###Dropout"
      ]
    },
    {
      "cell_type": "markdown",
      "metadata": {
        "id": "XHd-MFSNzeX-"
      },
      "source": [
        "overfitting model只能敘述已知問題(High Variance：sample太分散，model無法完全罩住)\n",
        "=> 有看過的都很好，沒看過的都很爛\n",
        "\n",
        "策略：更多資料(適應更廣範圍)、正則化(讓sample集中)、\"Dropout\"(網路太深，隨機拿掉幾%的node,*train才會拿掉，test還是會用完整網路)\n",
        "\n",
        "test_game: http://playground.tensorflow.org\n",
        "\n",
        "underfittubg model無法正確回答問題(High bias：準心沒有跟sample範圍對上，偏離靶心)\n",
        "=>有看過跟沒看過都很爛\n",
        "\n",
        "策略：增加網路深度、訓練時間加長、\n",
        "\n",
        "overfitting&underfittubg同時存在：sample又分散又偏離靶心\n",
        "=>資料無法看懂\n",
        "\n",
        "策略：先解決train的準確率問題、再針對test準確率修正"
      ]
    },
    {
      "cell_type": "markdown",
      "metadata": {
        "id": "93R4rZ3nYCA7"
      },
      "source": [
        "## Training Model\n",
        "\n",
        "\n",
        "1.   epochs = 10\n",
        "2.   use validation data\n",
        "\n"
      ]
    },
    {
      "cell_type": "code",
      "metadata": {
        "id": "53vcyL3abEMk",
        "colab": {
          "base_uri": "https://localhost:8080/"
        },
        "outputId": "5e57e53e-203f-4319-cd01-e6df7ec56d0d"
      },
      "source": [
        "# Train the model\n",
        "r1 = ann.fit(x_train, y_train, validation_data=(x_test, y_test), epochs=10)\n",
        "#正規化:train,test,validation=>但通常沒有validation，將validation當作test,訓練時就會多一個val_accuracy"
      ],
      "execution_count": null,
      "outputs": [
        {
          "output_type": "stream",
          "text": [
            "Epoch 1/10\n",
            "1875/1875 [==============================] - 4s 2ms/step - loss: 0.2936 - accuracy: 0.9149 - val_loss: 0.1377 - val_accuracy: 0.9596\n",
            "Epoch 2/10\n",
            "1875/1875 [==============================] - 4s 2ms/step - loss: 0.1415 - accuracy: 0.9580 - val_loss: 0.0956 - val_accuracy: 0.9701\n",
            "Epoch 3/10\n",
            "1875/1875 [==============================] - 4s 2ms/step - loss: 0.1066 - accuracy: 0.9677 - val_loss: 0.0907 - val_accuracy: 0.9704\n",
            "Epoch 4/10\n",
            "1875/1875 [==============================] - 4s 2ms/step - loss: 0.0862 - accuracy: 0.9731 - val_loss: 0.0779 - val_accuracy: 0.9762\n",
            "Epoch 5/10\n",
            "1875/1875 [==============================] - 4s 2ms/step - loss: 0.0739 - accuracy: 0.9764 - val_loss: 0.0733 - val_accuracy: 0.9781\n",
            "Epoch 6/10\n",
            "1875/1875 [==============================] - 4s 2ms/step - loss: 0.0642 - accuracy: 0.9793 - val_loss: 0.0723 - val_accuracy: 0.9785\n",
            "Epoch 7/10\n",
            "1875/1875 [==============================] - 4s 2ms/step - loss: 0.0573 - accuracy: 0.9818 - val_loss: 0.0752 - val_accuracy: 0.9769\n",
            "Epoch 8/10\n",
            "1875/1875 [==============================] - 4s 2ms/step - loss: 0.0526 - accuracy: 0.9829 - val_loss: 0.0692 - val_accuracy: 0.9791\n",
            "Epoch 9/10\n",
            "1875/1875 [==============================] - 4s 2ms/step - loss: 0.0489 - accuracy: 0.9838 - val_loss: 0.0697 - val_accuracy: 0.9802\n",
            "Epoch 10/10\n",
            "1875/1875 [==============================] - 4s 2ms/step - loss: 0.0432 - accuracy: 0.9854 - val_loss: 0.0748 - val_accuracy: 0.9789\n"
          ],
          "name": "stdout"
        }
      ]
    },
    {
      "cell_type": "code",
      "metadata": {
        "id": "JcLYaHgev-4m",
        "colab": {
          "base_uri": "https://localhost:8080/",
          "height": 377
        },
        "outputId": "68542ec2-2e48-45c6-f04c-a6f284504a7c"
      },
      "source": [
        "# Train the model\n",
        "r2 = model.fit(x_train, y_train, validation_data=(x_test, y_test), epochs=10)"
      ],
      "execution_count": null,
      "outputs": [
        {
          "output_type": "stream",
          "text": [
            "Epoch 1/10\n",
            "1875/1875 [==============================] - 4s 2ms/step - loss: 0.0256 - accuracy: 0.9912 - val_loss: 0.0817 - val_accuracy: 0.9786\n",
            "Epoch 2/10\n",
            "1875/1875 [==============================] - 4s 2ms/step - loss: 0.0253 - accuracy: 0.9914 - val_loss: 0.0899 - val_accuracy: 0.9795\n",
            "Epoch 3/10\n",
            "1875/1875 [==============================] - 4s 2ms/step - loss: 0.0232 - accuracy: 0.9917 - val_loss: 0.0853 - val_accuracy: 0.9807\n",
            "Epoch 4/10\n",
            "1875/1875 [==============================] - 4s 2ms/step - loss: 0.0230 - accuracy: 0.9923 - val_loss: 0.0813 - val_accuracy: 0.9814\n",
            "Epoch 5/10\n",
            "1875/1875 [==============================] - 4s 2ms/step - loss: 0.0226 - accuracy: 0.9917 - val_loss: 0.0803 - val_accuracy: 0.9823\n",
            "Epoch 6/10\n",
            "1875/1875 [==============================] - 4s 2ms/step - loss: 0.0220 - accuracy: 0.9929 - val_loss: 0.0867 - val_accuracy: 0.9804\n",
            "Epoch 7/10\n",
            "1875/1875 [==============================] - 4s 2ms/step - loss: 0.0225 - accuracy: 0.9920 - val_loss: 0.0893 - val_accuracy: 0.9819\n",
            "Epoch 8/10\n",
            "1875/1875 [==============================] - 4s 2ms/step - loss: 0.0197 - accuracy: 0.9934 - val_loss: 0.0953 - val_accuracy: 0.9811\n",
            "Epoch 9/10\n",
            "1875/1875 [==============================] - 4s 2ms/step - loss: 0.0195 - accuracy: 0.9931 - val_loss: 0.0861 - val_accuracy: 0.9806\n",
            "Epoch 10/10\n",
            "1875/1875 [==============================] - 4s 2ms/step - loss: 0.0195 - accuracy: 0.9934 - val_loss: 0.0903 - val_accuracy: 0.9807\n"
          ],
          "name": "stdout"
        }
      ]
    },
    {
      "cell_type": "markdown",
      "metadata": {
        "id": "2hDfsDYaZE0C"
      },
      "source": [
        "## Plot curves"
      ]
    },
    {
      "cell_type": "code",
      "metadata": {
        "id": "YmuEUz_abG2G",
        "colab": {
          "base_uri": "https://localhost:8080/",
          "height": 282
        },
        "outputId": "e04634bf-964c-43b4-e195-c5b443f32137"
      },
      "source": [
        "# Plot loss per iteration\n",
        "import matplotlib.pyplot as plt\n",
        "plt.plot(r1.history['loss'], label='loss')\n",
        "plt.plot(r1.history['val_loss'], label='val_loss')\n",
        "plt.legend()"
      ],
      "execution_count": null,
      "outputs": [
        {
          "output_type": "execute_result",
          "data": {
            "text/plain": [
              "<matplotlib.legend.Legend at 0x7f97fc1cd5f8>"
            ]
          },
          "metadata": {
            "tags": []
          },
          "execution_count": 11
        },
        {
          "output_type": "display_data",
          "data": {
            "image/png": "[encoded data removed]",
            "text/plain": [
              "<Figure size 432x288 with 1 Axes>"
            ]
          },
          "metadata": {
            "tags": [],
            "needs_background": "light"
          }
        }
      ]
    },
    {
      "cell_type": "code",
      "metadata": {
        "id": "PnieuD0lx3RB",
        "colab": {
          "base_uri": "https://localhost:8080/",
          "height": 282
        },
        "outputId": "1d9e6385-e50e-4d4e-99bb-f4cf16870cb2"
      },
      "source": [
        "# Plot loss per iteration\n",
        "import matplotlib.pyplot as plt\n",
        "plt.plot(r2.history['loss'], label='loss')\n",
        "plt.plot(r2.history['val_loss'], label='val_loss')\n",
        "plt.legend()"
      ],
      "execution_count": null,
      "outputs": [
        {
          "output_type": "execute_result",
          "data": {
            "text/plain": [
              "<matplotlib.legend.Legend at 0x7f709ac875c0>"
            ]
          },
          "metadata": {
            "tags": []
          },
          "execution_count": 21
        },
        {
          "output_type": "display_data",
          "data": {
            "image/png": "[encoded data removed]",
            "text/plain": [
              "<Figure size 432x288 with 1 Axes>"
            ]
          },
          "metadata": {
            "tags": [],
            "needs_background": "light"
          }
        }
      ]
    },
    {
      "cell_type": "code",
      "metadata": {
        "id": "OZ_O_sQwbPpi",
        "colab": {
          "base_uri": "https://localhost:8080/",
          "height": 282
        },
        "outputId": "2e6c4f5c-9fe1-491a-9d95-006108e1bcb7"
      },
      "source": [
        "# Plot accuracy per iteration\n",
        "plt.plot(r1.history['accuracy'], label='acc')\n",
        "plt.plot(r1.history['val_accuracy'], label='val_acc')\n",
        "plt.legend()"
      ],
      "execution_count": null,
      "outputs": [
        {
          "output_type": "execute_result",
          "data": {
            "text/plain": [
              "<matplotlib.legend.Legend at 0x7f97fc37c208>"
            ]
          },
          "metadata": {
            "tags": []
          },
          "execution_count": 12
        },
        {
          "output_type": "display_data",
          "data": {
            "image/png": "[encoded data removed]",
            "text/plain": [
              "<Figure size 432x288 with 1 Axes>"
            ]
          },
          "metadata": {
            "tags": [],
            "needs_background": "light"
          }
        }
      ]
    },
    {
      "cell_type": "code",
      "metadata": {
        "id": "qPTcpwRKyCSU",
        "colab": {
          "base_uri": "https://localhost:8080/",
          "height": 284
        },
        "outputId": "a05f898e-79fe-4694-f4c3-a43e5d65c27b"
      },
      "source": [
        "# Plot accuracy per iteration\n",
        "plt.plot(r2.history['accuracy'], label='acc')\n",
        "plt.plot(r2.history['val_accuracy'], label='val_acc')\n",
        "plt.legend()"
      ],
      "execution_count": null,
      "outputs": [
        {
          "output_type": "execute_result",
          "data": {
            "text/plain": [
              "<matplotlib.legend.Legend at 0x7f709ab51278>"
            ]
          },
          "metadata": {
            "tags": []
          },
          "execution_count": 23
        },
        {
          "output_type": "display_data",
          "data": {
            "image/png": "[encoded data removed]",
            "text/plain": [
              "<Figure size 432x288 with 1 Axes>"
            ]
          },
          "metadata": {
            "tags": [],
            "needs_background": "light"
          }
        }
      ]
    },
    {
      "cell_type": "markdown",
      "metadata": {
        "id": "FeiikWv4Zhe-"
      },
      "source": [
        "## Evaluate model"
      ]
    },
    {
      "cell_type": "code",
      "metadata": {
        "id": "fKA7MzMMbS4f",
        "colab": {
          "base_uri": "https://localhost:8080/"
        },
        "outputId": "f74d6779-ccba-46d6-beb5-8f26ba0b5892"
      },
      "source": [
        "# Evaluate the model\n",
        "print(ann.evaluate(x_test, y_test))"
      ],
      "execution_count": null,
      "outputs": [
        {
          "output_type": "stream",
          "text": [
            "313/313 [==============================] - 0s 2ms/step - loss: 0.0748 - accuracy: 0.9789\n",
            "[0.07480219751596451, 0.9789000153541565]\n"
          ],
          "name": "stdout"
        }
      ]
    },
    {
      "cell_type": "code",
      "metadata": {
        "id": "UFl7qLMfyUyG",
        "colab": {
          "base_uri": "https://localhost:8080/",
          "height": 51
        },
        "outputId": "3a17df76-1025-45d8-aa15-3365746d8286"
      },
      "source": [
        "# Evaluate the model\n",
        "print(model.evaluate(x_test, y_test))"
      ],
      "execution_count": null,
      "outputs": [
        {
          "output_type": "stream",
          "text": [
            "313/313 [==============================] - 0s 1ms/step - loss: 0.0903 - accuracy: 0.9807\n",
            "[0.09025279432535172, 0.9807000160217285]\n"
          ],
          "name": "stdout"
        }
      ]
    },
    {
      "cell_type": "code",
      "metadata": {
        "id": "Yo1wus8zaZL2",
        "colab": {
          "base_uri": "https://localhost:8080/"
        },
        "outputId": "a0721fa8-9d8a-4c4a-ee32-5e942ef7be02"
      },
      "source": [
        "from sklearn.metrics import confusion_matrix, classification_report\n",
        "\n",
        "p_test_ann = ann.predict(x_test).argmax(axis=1)\n",
        "print(confusion_matrix(y_test, p_test_ann))\n",
        "print(classification_report(y_test, p_test_ann))"
      ],
      "execution_count": null,
      "outputs": [
        {
          "output_type": "stream",
          "text": [
            "[[ 973    0    1    1    1    0    1    1    2    0]\n",
            " [   0 1129    3    0    0    0    1    0    2    0]\n",
            " [   4    0 1016    1    2    0    1    4    4    0]\n",
            " [   0    0    7  990    0    3    0    5    1    4]\n",
            " [   3    0    2    1  965    0    3    3    2    3]\n",
            " [   3    1    0   16    1  857    2    2    8    2]\n",
            " [   9    3    2    1    3    5  932    0    3    0]\n",
            " [   2    4   10    0    1    0    0 1006    1    4]\n",
            " [   4    0    7    7    3    2    1    5  944    1]\n",
            " [   2    2    1    4   13    2    0    7    1  977]]\n",
            "              precision    recall  f1-score   support\n",
            "\n",
            "           0       0.97      0.99      0.98       980\n",
            "           1       0.99      0.99      0.99      1135\n",
            "           2       0.97      0.98      0.98      1032\n",
            "           3       0.97      0.98      0.97      1010\n",
            "           4       0.98      0.98      0.98       982\n",
            "           5       0.99      0.96      0.97       892\n",
            "           6       0.99      0.97      0.98       958\n",
            "           7       0.97      0.98      0.98      1028\n",
            "           8       0.98      0.97      0.97       974\n",
            "           9       0.99      0.97      0.98      1009\n",
            "\n",
            "    accuracy                           0.98     10000\n",
            "   macro avg       0.98      0.98      0.98     10000\n",
            "weighted avg       0.98      0.98      0.98     10000\n",
            "\n"
          ],
          "name": "stdout"
        }
      ]
    },
    {
      "cell_type": "code",
      "metadata": {
        "id": "iq0iqqPi49wU",
        "colab": {
          "base_uri": "https://localhost:8080/",
          "height": 476
        },
        "outputId": "5990504f-7b4d-43ca-f18d-c8d39a8fae48"
      },
      "source": [
        "p_test_model = model.predict(x_test).argmax(axis=1)\n",
        "print(confusion_matrix(y_test, p_test))\n",
        "print(classification_report(y_test, p_test))"
      ],
      "execution_count": null,
      "outputs": [
        {
          "output_type": "stream",
          "text": [
            "[[ 969    0    1    2    1    0    2    1    3    1]\n",
            " [   0 1124    3    1    0    0    1    0    6    0]\n",
            " [   3    1 1014    3    2    0    1    5    3    0]\n",
            " [   1    0    2  996    0    3    0    4    1    3]\n",
            " [   1    0    2    0  967    0    4    1    0    7]\n",
            " [   2    0    0   10    0  870    3    1    5    1]\n",
            " [   4    3    1    1    6    6  934    0    3    0]\n",
            " [   1    5   11    3    1    0    0  999    1    7]\n",
            " [   1    2    3    5    5    1    1    5  949    2]\n",
            " [   2    4    0    5    6    1    0    4    2  985]]\n",
            "              precision    recall  f1-score   support\n",
            "\n",
            "           0       0.98      0.99      0.99       980\n",
            "           1       0.99      0.99      0.99      1135\n",
            "           2       0.98      0.98      0.98      1032\n",
            "           3       0.97      0.99      0.98      1010\n",
            "           4       0.98      0.98      0.98       982\n",
            "           5       0.99      0.98      0.98       892\n",
            "           6       0.99      0.97      0.98       958\n",
            "           7       0.98      0.97      0.98      1028\n",
            "           8       0.98      0.97      0.97       974\n",
            "           9       0.98      0.98      0.98      1009\n",
            "\n",
            "    accuracy                           0.98     10000\n",
            "   macro avg       0.98      0.98      0.98     10000\n",
            "weighted avg       0.98      0.98      0.98     10000\n",
            "\n"
          ],
          "name": "stdout"
        }
      ]
    },
    {
      "cell_type": "code",
      "metadata": {
        "id": "Spidv-RI4rBh",
        "colab": {
          "base_uri": "https://localhost:8080/"
        },
        "outputId": "14b54b7f-7a7f-4cbb-9503-9f4c4dd2a62b"
      },
      "source": [
        "# Show some misclassified examples\n",
        "import numpy as np\n",
        "m = np.where(p_test_ann != y_test)\n",
        "print(type(m))\n",
        "print(\"can't shape\")\n",
        "print(m)\n",
        "misclassified_idx = np.where(p_test_ann != y_test)[0]\n",
        "print(type(misclassified_idx))\n",
        "print(misclassified_idx.shape)\n",
        "print(misclassified_idx)"
      ],
      "execution_count": null,
      "outputs": [
        {
          "output_type": "stream",
          "text": [
            "<class 'tuple'>\n",
            "can't shape\n",
            "(array([ 247,  259,  274,  320,  321,  340,  381,  445,  495,  582,  619,\n",
            "        691,  720,  726,  810,  817,  844,  951,  965, 1003, 1014, 1039,\n",
            "       1044, 1112, 1178, 1181, 1182, 1226, 1232, 1247, 1260, 1289, 1299,\n",
            "       1319, 1393, 1500, 1522, 1530, 1549, 1553, 1681, 1717, 1754, 1790,\n",
            "       1813, 1878, 1880, 1901, 1941, 1955, 2004, 2016, 2043, 2053, 2070,\n",
            "       2073, 2098, 2109, 2118, 2129, 2130, 2135, 2162, 2182, 2272, 2291,\n",
            "       2369, 2387, 2406, 2408, 2414, 2462, 2488, 2526, 2597, 2607, 2648,\n",
            "       2654, 2743, 2845, 2863, 2877, 2896, 2921, 2927, 2939, 2953, 2970,\n",
            "       3030, 3073, 3117, 3216, 3289, 3336, 3422, 3503, 3520, 3549, 3558,\n",
            "       3597, 3604, 3674, 3727, 3751, 3776, 3780, 3801, 3808, 3818, 3838,\n",
            "       3853, 3906, 3941, 3943, 3948, 3951, 3985, 4065, 4152, 4163, 4176,\n",
            "       4199, 4224, 4248, 4256, 4259, 4271, 4289, 4306, 4355, 4360, 4369,\n",
            "       4425, 4497, 4536, 4571, 4601, 4639, 4731, 4740, 4761, 4807, 4814,\n",
            "       4823, 4833, 4880, 4918, 4990, 5600, 5642, 5676, 5734, 5749, 5757,\n",
            "       5887, 5888, 5937, 5955, 5972, 5973, 5997, 6023, 6024, 6166, 6173,\n",
            "       6390, 6558, 6571, 6574, 6597, 6625, 6651, 6755, 6783, 6847, 7182,\n",
            "       7434, 7732, 7821, 7886, 8062, 8246, 8325, 8408, 8502, 8522, 8527,\n",
            "       9009, 9015, 9024, 9280, 9422, 9482, 9587, 9634, 9664, 9669, 9679,\n",
            "       9692, 9698, 9700, 9729, 9745, 9768, 9770, 9792, 9811, 9839, 9888,\n",
            "       9904, 9982]),)\n",
            "<class 'numpy.ndarray'>\n",
            "(211,)\n",
            "[ 247  259  274  320  321  340  381  445  495  582  619  691  720  726\n",
            "  810  817  844  951  965 1003 1014 1039 1044 1112 1178 1181 1182 1226\n",
            " 1232 1247 1260 1289 1299 1319 1393 1500 1522 1530 1549 1553 1681 1717\n",
            " 1754 1790 1813 1878 1880 1901 1941 1955 2004 2016 2043 2053 2070 2073\n",
            " 2098 2109 2118 2129 2130 2135 2162 2182 2272 2291 2369 2387 2406 2408\n",
            " 2414 2462 2488 2526 2597 2607 2648 2654 2743 2845 2863 2877 2896 2921\n",
            " 2927 2939 2953 2970 3030 3073 3117 3216 3289 3336 3422 3503 3520 3549\n",
            " 3558 3597 3604 3674 3727 3751 3776 3780 3801 3808 3818 3838 3853 3906\n",
            " 3941 3943 3948 3951 3985 4065 4152 4163 4176 4199 4224 4248 4256 4259\n",
            " 4271 4289 4306 4355 4360 4369 4425 4497 4536 4571 4601 4639 4731 4740\n",
            " 4761 4807 4814 4823 4833 4880 4918 4990 5600 5642 5676 5734 5749 5757\n",
            " 5887 5888 5937 5955 5972 5973 5997 6023 6024 6166 6173 6390 6558 6571\n",
            " 6574 6597 6625 6651 6755 6783 6847 7182 7434 7732 7821 7886 8062 8246\n",
            " 8325 8408 8502 8522 8527 9009 9015 9024 9280 9422 9482 9587 9634 9664\n",
            " 9669 9679 9692 9698 9700 9729 9745 9768 9770 9792 9811 9839 9888 9904\n",
            " 9982]\n"
          ],
          "name": "stdout"
        }
      ]
    },
    {
      "cell_type": "code",
      "metadata": {
        "id": "PG23kxjm4yH7",
        "colab": {
          "base_uri": "https://localhost:8080/",
          "height": 281
        },
        "outputId": "8e176e9f-4e15-4ba4-8de3-b4cf59190b7c"
      },
      "source": [
        "i = np.random.choice(misclassified_idx)\n",
        "plt.imshow(x_test[i], cmap='gray')\n",
        "plt.title(\"True label: %s Predicted: %s\" % (y_test[i], p_test_ann[i]));"
      ],
      "execution_count": null,
      "outputs": [
        {
          "output_type": "display_data",
          "data": {
            "image/png": "[encoded data removed]",
            "text/plain": [
              "<Figure size 432x288 with 1 Axes>"
            ]
          },
          "metadata": {
            "tags": [],
            "needs_background": "light"
          }
        }
      ]
    },
    {
      "cell_type": "code",
      "metadata": {
        "id": "teK1Ana87uSS"
      },
      "source": [
        ""
      ],
      "execution_count": null,
      "outputs": []
    }
  ]
}