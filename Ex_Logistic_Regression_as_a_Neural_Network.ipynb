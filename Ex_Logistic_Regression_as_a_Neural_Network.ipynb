{
  "nbformat": 4,
  "nbformat_minor": 0,
  "metadata": {
    "colab": {
      "name": "Ex_Logistic Regression as a Neural Network.ipynb",
      "provenance": [],
      "collapsed_sections": [],
      "toc_visible": true,
      "include_colab_link": true
    },
    "kernelspec": {
      "name": "python3",
      "display_name": "Python 3"
    }
  },
  "cells": [
    {
      "cell_type": "markdown",
      "metadata": {
        "id": "view-in-github",
        "colab_type": "text"
      },
      "source": [
        "<a href=\"https://colab.research.google.com/github/marinba2200/DL_test/blob/main/Ex_Logistic_Regression_as_a_Neural_Network.ipynb\" target=\"_parent\"><img src=\"https://colab.research.google.com/assets/colab-badge.svg\" alt=\"Open In Colab\"/></a>"
      ]
    },
    {
      "cell_type": "markdown",
      "metadata": {
        "id": "TvsZp6OVMNu8"
      },
      "source": [
        "## 1 - Packages"
      ]
    },
    {
      "cell_type": "code",
      "metadata": {
        "id": "FDh_nE7oL1Xv"
      },
      "source": [
        "import numpy as np\n",
        "import matplotlib.pyplot as plt\n",
        "import h5py #download data package"
      ],
      "execution_count": null,
      "outputs": []
    },
    {
      "cell_type": "code",
      "metadata": {
        "id": "U7XolCe-V1FF",
        "colab": {
          "base_uri": "https://localhost:8080/"
        },
        "outputId": "594f089b-6f30-4abd-e709-4bb35e5b181a"
      },
      "source": [
        "from google.colab import drive #執行這個後點網址可以登入google，登入後會顯示authorization code，再輸入到下面框框\n",
        "drive.mount('/content/drive/')"
      ],
      "execution_count": null,
      "outputs": [
        {
          "output_type": "stream",
          "text": [
            "Mounted at /content/drive/\n"
          ],
          "name": "stdout"
        }
      ]
    },
    {
      "cell_type": "code",
      "metadata": {
        "id": "uGI-_22RV1cg",
        "colab": {
          "base_uri": "https://localhost:8080/",
          "height": 35
        },
        "outputId": "fcb99461-ab24-4eff-fc3a-5364b6a6a2ab"
      },
      "source": [
        "import os #連上雲端硬碟\n",
        "\n",
        "os.chdir(\"/content/drive/My Drive/Colab Notebooks/dataset\") #可自行在Colab Notebooks後方更改路徑\n",
        "os.getcwd() #查看當前路徑"
      ],
      "execution_count": null,
      "outputs": [
        {
          "output_type": "execute_result",
          "data": {
            "application/vnd.google.colaboratory.intrinsic+json": {
              "type": "string"
            },
            "text/plain": [
              "'/content/drive/My Drive/Colab Notebooks/dataset'"
            ]
          },
          "metadata": {
            "tags": []
          },
          "execution_count": 3
        }
      ]
    },
    {
      "cell_type": "markdown",
      "metadata": {
        "id": "sGysEJkxMMuc"
      },
      "source": [
        "## 2 - Overview of the Problem set\n",
        "\n",
        "\n",
        "\n",
        "1.   Figure out the dimensions and shapes of the problem (m_train, m_test, num_px, ...)\n",
        "2.   Reshape the datasets such that each example is now a vector of size (num_px * num_px * 3, 1)\n",
        "3.   \"Standardize\" the data\n",
        "\n",
        "\n",
        "\n",
        "\n",
        "\n",
        "\n"
      ]
    },
    {
      "cell_type": "code",
      "metadata": {
        "id": "uknJeRJBNIeH"
      },
      "source": [
        "train_dataset = h5py.File('train_catvnoncat.h5', \"r\")\n",
        "train_set_x_orig = np.array(train_dataset[\"train_set_x\"][:]) # your train set features\n",
        "train_set_y_orig = np.array(train_dataset[\"train_set_y\"][:]) # your train set labels\n",
        "\n",
        "test_dataset = h5py.File('test_catvnoncat.h5', \"r\")\n",
        "test_set_x_orig = np.array(test_dataset[\"test_set_x\"][:]) # your test set features\n",
        "test_set_y_orig = np.array(test_dataset[\"test_set_y\"][:]) # your test set labels\n",
        "\n",
        "classes = np.array(test_dataset[\"list_classes\"][:]) # the list of classes(抓解答)\n",
        "\n",
        "train_set_y = train_set_y_orig.reshape((1, train_set_y_orig.shape[0])) #確認矩陣維度\n",
        "test_set_y = test_set_y_orig.reshape((1, test_set_y_orig.shape[0]))"
      ],
      "execution_count": null,
      "outputs": []
    },
    {
      "cell_type": "code",
      "metadata": {
        "id": "gMisfnZXNxTy",
        "colab": {
          "base_uri": "https://localhost:8080/",
          "height": 285
        },
        "outputId": "09d71049-6d38-4ff5-8a7f-d6f6e5e95f53"
      },
      "source": [
        "index = 0 #-209 #負值也可以，變成從後面算回來。\n",
        "plt.imshow(train_set_x_orig[index]) #看資料樣子\n",
        "print(\"y = \" + str(train_set_y[0, index]) + \", it's a '\" + classes[train_set_y[0, index]].decode(\"utf-8\") +  \"' picture.\")"
      ],
      "execution_count": null,
      "outputs": [
        {
          "output_type": "stream",
          "text": [
            "y = 0, it's a 'non-cat' picture.\n"
          ],
          "name": "stdout"
        },
        {
          "output_type": "display_data",
          "data": {
            "image/png": "[encoded data removed]",
            "text/plain": [
              "<Figure size 432x288 with 1 Axes>"
            ]
          },
          "metadata": {
            "tags": [],
            "needs_background": "light"
          }
        }
      ]
    },
    {
      "cell_type": "code",
      "metadata": {
        "id": "oeRwka3wBYXD",
        "colab": {
          "base_uri": "https://localhost:8080/"
        },
        "outputId": "b0077de8-abbd-4b0f-ce62-72557f8acf69"
      },
      "source": [
        "print(train_set_x_orig.shape)\n",
        "print(test_set_x_orig.shape)\n",
        "print(train_set_y.shape)\n",
        "print(test_set_y.shape)"
      ],
      "execution_count": null,
      "outputs": [
        {
          "output_type": "stream",
          "text": [
            "(209, 64, 64, 3)\n",
            "(50, 64, 64, 3)\n",
            "(1, 209)\n",
            "(1, 50)\n"
          ],
          "name": "stdout"
        }
      ]
    },
    {
      "cell_type": "code",
      "metadata": {
        "id": "su7fSMYOOPUb",
        "colab": {
          "base_uri": "https://localhost:8080/"
        },
        "outputId": "ea77602c-2da9-4651-d100-c001afd56968"
      },
      "source": [
        "m_train = train_set_x_orig.shape[0] #找出train的資料量\n",
        "m_test = test_set_x_orig.shape[0] #找出test的資料量\n",
        "num_px = train_set_x_orig.shape[1] #找出train的長寬(因為相同，長寬取一項就好)\n",
        "\n",
        "print (\"Number of training examples: m_train = \" + str(m_train))\n",
        "print (\"Number of testing examples: m_test = \" + str(m_test))\n",
        "print (\"Height/Width of each image: num_px = \" + str(num_px)) #長寬比\n",
        "print (\"Each image is of size: (\" + str(num_px) + \", \" + str(num_px) + \", 3)\")  #有RGB所以最後還有一維是3\n",
        "print (\"train_set_x shape: \" + str(train_set_x_orig.shape))\n",
        "print (\"train_set_y shape: \" + str(train_set_y.shape))\n",
        "print (\"test_set_x shape: \" + str(test_set_x_orig.shape))\n",
        "print (\"test_set_y shape: \" + str(test_set_y.shape))"
      ],
      "execution_count": null,
      "outputs": [
        {
          "output_type": "stream",
          "text": [
            "Number of training examples: m_train = 209\n",
            "Number of testing examples: m_test = 50\n",
            "Height/Width of each image: num_px = 64\n",
            "Each image is of size: (64, 64, 3)\n",
            "train_set_x shape: (209, 64, 64, 3)\n",
            "train_set_y shape: (1, 209)\n",
            "test_set_x shape: (50, 64, 64, 3)\n",
            "test_set_y shape: (1, 50)\n"
          ],
          "name": "stdout"
        }
      ]
    },
    {
      "cell_type": "code",
      "metadata": {
        "id": "Wzq2TvmROWrz",
        "colab": {
          "base_uri": "https://localhost:8080/"
        },
        "outputId": "141b2498-cbae-48d8-d615-cefd105aed15"
      },
      "source": [
        "train_set_x_flatten = train_set_x_orig.reshape(train_set_x_orig.shape[0], -1).T \n",
        "#攤平,但各sample要區分(第一維要保留)，-1 => 剩餘維度皆合併\n",
        "test_set_x_flatten = test_set_x_orig.reshape(test_set_x_orig.shape[0], -1).T\n",
        "#test_set_x_flatten = test_set_x_orig.reshape(test_set_x_orig.shape[0], -1) #比較轉秩\n",
        "\n",
        "print (\"train_set_x_flatten shape: \" + str(train_set_x_flatten.shape))\n",
        "print (\"train_set_y shape: \" + str(train_set_y.shape))\n",
        "print (\"test_set_x_flatten shape: \" + str(test_set_x_flatten.shape))\n",
        "print (\"test_set_y shape: \" + str(test_set_y.shape))\n",
        "print (\"sanity check after reshaping: \" + str(train_set_x_flatten[0:5,0])) #檢查而已"
      ],
      "execution_count": null,
      "outputs": [
        {
          "output_type": "stream",
          "text": [
            "train_set_x_flatten shape: (12288, 209)\n",
            "train_set_y shape: (1, 209)\n",
            "test_set_x_flatten shape: (12288, 50)\n",
            "test_set_y shape: (1, 50)\n",
            "sanity check after reshaping: [17 31 56 22 33]\n"
          ],
          "name": "stdout"
        }
      ]
    },
    {
      "cell_type": "code",
      "metadata": {
        "id": "QL2ntWPMOZaT",
        "colab": {
          "base_uri": "https://localhost:8080/"
        },
        "outputId": "b3fdaea9-320a-4020-8be4-b595db6a044c"
      },
      "source": [
        "train_set_x = train_set_x_flatten/255. \n",
        "test_set_x = test_set_x_flatten/255.\n",
        "#將0~255縮小成0~1之間，類似於標準化的方法(數值太大會梯度消失)，但是他是pixel沒有所謂的好壞。\n",
        "#如果用標準化的話會有負值，我們用relu或其他方法可能會將負值犧牲掉，因此不用標準化，除上255。\n",
        "print(train_set_x_flatten)\n",
        "print(train_set_x)"
      ],
      "execution_count": null,
      "outputs": [
        {
          "output_type": "stream",
          "text": [
            "[[ 17 196  82 ... 143  22   8]\n",
            " [ 31 192  71 ... 155  24  28]\n",
            " [ 56 190  68 ... 165  23  53]\n",
            " ...\n",
            " [  0  82 138 ...  85   4   0]\n",
            " [  0  80 141 ... 107   5   0]\n",
            " [  0  81 142 ... 149   0   0]]\n",
            "[[0.06666667 0.76862745 0.32156863 ... 0.56078431 0.08627451 0.03137255]\n",
            " [0.12156863 0.75294118 0.27843137 ... 0.60784314 0.09411765 0.10980392]\n",
            " [0.21960784 0.74509804 0.26666667 ... 0.64705882 0.09019608 0.20784314]\n",
            " ...\n",
            " [0.         0.32156863 0.54117647 ... 0.33333333 0.01568627 0.        ]\n",
            " [0.         0.31372549 0.55294118 ... 0.41960784 0.01960784 0.        ]\n",
            " [0.         0.31764706 0.55686275 ... 0.58431373 0.         0.        ]]\n"
          ],
          "name": "stdout"
        }
      ]
    },
    {
      "cell_type": "markdown",
      "metadata": {
        "id": "883IBuhIMkvL"
      },
      "source": [
        "## 3 - General Architecture of the learning algorithm\n",
        "\n",
        "\n",
        "1.   Initialize the parameters of the model\n",
        "2.*   Learn the parameters for the model by minimizing the cost  \n",
        "3.   Use the learned parameters to make predictions (on the test set)\n",
        "4.   Analyse the results and conclude\n",
        "\n"
      ]
    },
    {
      "cell_type": "markdown",
      "metadata": {
        "id": "BIzHzFcvMnHd"
      },
      "source": [
        "## 4 - Building the parts of our algorithm\n",
        "\n",
        "\n",
        "\n",
        "1.   Define the model structure (such as number of input features)\n",
        "2.   Initialize the model's parameters\n",
        "3.   Loop:\n",
        "> *   Calculate current loss (forward propagation)\n",
        "> *   Calculate current gradient (backward propagation)\n",
        "> *   Update parameters (gradient descent)\n",
        "\n"
      ]
    },
    {
      "cell_type": "markdown",
      "metadata": {
        "id": "mlZajpeYMp2l"
      },
      "source": [
        "### 4.1 - Helper functions: sigmoid(z)"
      ]
    },
    {
      "cell_type": "code",
      "metadata": {
        "id": "hA8zu-VWMrvZ"
      },
      "source": [
        "def sigmoid(z): #建立sigmoid function\n",
        "    \n",
        "    \"\"\"\n",
        "    # Compute the sigmoid of z\n",
        "    # Arguments: z\n",
        "    # Returns: s = sigmoid(z)\n",
        "    \"\"\"\n",
        "\n",
        "    s = 1/(1+np.exp(-1*z))\n",
        "    \n",
        "    return s"
      ],
      "execution_count": null,
      "outputs": []
    },
    {
      "cell_type": "code",
      "metadata": {
        "id": "yoB91_fQO8BW",
        "colab": {
          "base_uri": "https://localhost:8080/"
        },
        "outputId": "2cab32b2-318f-4344-b43b-90c4b28c0286"
      },
      "source": [
        "print (\"sigmoid([0, 1.8]) = \" + str(sigmoid(np.array([0, 1.8]))))"
      ],
      "execution_count": null,
      "outputs": [
        {
          "output_type": "stream",
          "text": [
            "sigmoid([0, 1.8]) = [0.5        0.85814894]\n"
          ],
          "name": "stdout"
        }
      ]
    },
    {
      "cell_type": "markdown",
      "metadata": {
        "id": "4MQfhTW0Mtzm"
      },
      "source": [
        "### 4.2 - Initializing parameters: initialize_with_zeros(dim)"
      ]
    },
    {
      "cell_type": "code",
      "metadata": {
        "id": "xhtsm9LFMuRp"
      },
      "source": [
        "def initialize_with_zeros(dim): #初始化權重input = 維度\n",
        "    \n",
        "    \"\"\"\n",
        "    # Creates a vector of zeros(dim, 1) for w and initializes b to 0.\n",
        "    # Arguments: dim    \n",
        "    # Returns: w, b\n",
        "    \"\"\"\n",
        "    \n",
        "    w = np.zeros([dim, 1])\n",
        "    b = 0 #w,b目前初始化用0，但之後就不會用0了，效果會不太好(怎麼train都是相同係數[w都設0]，梯度消失[w設太大])。\n",
        "\n",
        "    assert(w.shape == (dim, 1))\n",
        "    assert(isinstance(b, float) or isinstance(b, int))\n",
        "    \n",
        "    return w, b"
      ],
      "execution_count": null,
      "outputs": []
    },
    {
      "cell_type": "code",
      "metadata": {
        "id": "BuGGZ0vKPA0V",
        "colab": {
          "base_uri": "https://localhost:8080/"
        },
        "outputId": "aff86e5b-aca9-450e-d5ef-338dd694fdf3"
      },
      "source": [
        "dim = 2\n",
        "w, b = initialize_with_zeros(dim)\n",
        "print (\"w = \" + str(w))\n",
        "print (\"b = \" + str(b))\n",
        "print(w.shape)"
      ],
      "execution_count": null,
      "outputs": [
        {
          "output_type": "stream",
          "text": [
            "w = [[0.]\n",
            " [0.]]\n",
            "b = 0\n",
            "(2, 1)\n"
          ],
          "name": "stdout"
        }
      ]
    },
    {
      "cell_type": "markdown",
      "metadata": {
        "id": "LwCH7SN1Mx4E"
      },
      "source": [
        "### 4.3 - Forward and Backward propagation: propagate(w, b, X, Y)"
      ]
    },
    {
      "cell_type": "code",
      "metadata": {
        "id": "bTrfsW4zMyWp"
      },
      "source": [
        "def propagate(w, b, X, Y): #計算權重與bias的函式\n",
        "    \n",
        "    \"\"\"\n",
        "    # Implement the cost function and its gradient\n",
        "    # Arguments: w(num_px * num_px * 3, 1), b, X(num_px * num_px * 3, number of examples), Y(1, number of examples)\n",
        "    # Returns: cost, dw, db\n",
        "    \"\"\"\n",
        "    \n",
        "    m = X.shape[1] #要抓資料筆數，如果選0就是feature數量\n",
        "    # 正向\n",
        "    A = sigmoid(np.dot(w.T,X)+b) #維度要正確(2x1)˙(2x3)，w要轉秩\n",
        "    cost = (-1/m)*np.sum(Y*np.log(A)+(1-Y)*np.log(1-A))\n",
        "    #反向\n",
        "    dw = 1/m*np.dot(X,(A-Y).T) #dw = 12288x1 X=12288x209 (A-Y)=1x209 <-要轉秩 \n",
        "    db = 1/m*np.sum(A-Y)\n",
        "\n",
        "    assert(dw.shape == w.shape)\n",
        "    assert(db.dtype == float)\n",
        "    cost = np.squeeze(cost) #降維(降掉沒用的維度)\n",
        "    assert(cost.shape == ())\n",
        "    \n",
        "    grads = {\"dw\": dw, \"db\": db}\n",
        "    \n",
        "    return grads, cost"
      ],
      "execution_count": null,
      "outputs": []
    },
    {
      "cell_type": "code",
      "metadata": {
        "id": "fTnJC0qWPGFG",
        "colab": {
          "base_uri": "https://localhost:8080/"
        },
        "outputId": "db6f9ce2-87b0-45a5-b235-f4440ed81d0d"
      },
      "source": [
        "w, b, X, Y = np.array([[2.],[3.]]), 1., np.array([[-1.,-2.,4.],[-2.,1.,-3]]), np.array([[1,0,1]])\n",
        "###############??????###############\n",
        "\n",
        "\n",
        "grads, cost = propagate(w, b, X, Y) \n",
        "print (\"dw = \" + str(grads[\"dw\"]))\n",
        "print (\"db = \" + str(grads[\"db\"]))\n",
        "print (\"cost = \" + str(cost))\n",
        "print(w.shape)\n",
        "print(X.shape)\n",
        "print(Y.shape)"
      ],
      "execution_count": null,
      "outputs": [
        {
          "output_type": "stream",
          "text": [
            "dw = [[-0.66697035]\n",
            " [ 1.33272597]]\n",
            "db = -0.33302964960186643\n",
            "cost = 2.795735275857888\n",
            "(2, 1)\n",
            "(2, 3)\n",
            "(1, 3)\n"
          ],
          "name": "stdout"
        }
      ]
    },
    {
      "cell_type": "markdown",
      "metadata": {
        "id": "A5HUSOKZMz24"
      },
      "source": [
        "### 4.4 - Optimization: optimize(w, b, X, Y, num_iterations, learning_rate, print_cost = False)"
      ]
    },
    {
      "cell_type": "code",
      "metadata": {
        "id": "NIeQcC4JPI0m"
      },
      "source": [
        "def optimize(w, b, X, Y, num_iterations, learning_rate, print_cost = False):\n",
        "    \n",
        "    \"\"\"\n",
        "    # Optimizes w and b\n",
        "    # Arguments:w, b, X, Y, num_iterations, learning_rate, print_cost -- True to print the loss every 100 steps\n",
        "    # Returns: params{w, b}, grads{dw, db}, costs\n",
        "    \"\"\"\n",
        "    \n",
        "    costs = []\n",
        "    \n",
        "    for i in range(num_iterations):  #要給他迭代次數\n",
        "                \n",
        "        grads, cost = propagate(w, b, X, Y) #呼叫權重跟bias的計算函式\n",
        "        #w,b,X算出y-hat\n",
        "        \n",
        "        dw = grads[\"dw\"]\n",
        "        db = grads[\"db\"]\n",
        "        \n",
        "        w = w - learning_rate*dw\n",
        "        b = b - learning_rate*db\n",
        "        \n",
        "        if i % 100 == 0:\n",
        "            costs.append(cost) #每一百次會記錄一次cost\n",
        "        \n",
        "        if print_cost and i % 100 == 0:\n",
        "            print (\"Cost after iteration %i: %f\" %(i, cost))\n",
        "    \n",
        "    params = {\"w\": w, \"b\": b}\n",
        "    \n",
        "    grads = {\"dw\": dw, \"db\": db}\n",
        "    \n",
        "    return params, grads, costs"
      ],
      "execution_count": null,
      "outputs": []
    },
    {
      "cell_type": "code",
      "metadata": {
        "id": "YdyftHJ_PMs8",
        "colab": {
          "base_uri": "https://localhost:8080/"
        },
        "outputId": "4cd36147-732a-4ca1-f9d9-75dd38b98dba"
      },
      "source": [
        "params, grads, costs = optimize(w, b, X, Y, num_iterations= 100, learning_rate = 0.009, print_cost = False)\n",
        "\n",
        "print (\"w = \" + str(params[\"w\"]))\n",
        "print (\"b = \" + str(params[\"b\"]))\n",
        "print (\"dw = \" + str(grads[\"dw\"]))\n",
        "print (\"db = \" + str(grads[\"db\"]))"
      ],
      "execution_count": null,
      "outputs": [
        {
          "output_type": "stream",
          "text": [
            "w = [[2.11539542]\n",
            " [2.1458852 ]]\n",
            "b = 1.2370850884643623\n",
            "dw = [[0.08081069]\n",
            " [0.8008599 ]]\n",
            "db = -0.24383028219330308\n"
          ],
          "name": "stdout"
        }
      ]
    },
    {
      "cell_type": "markdown",
      "metadata": {
        "id": "_isNG9yJ9VEi"
      },
      "source": [
        "###If ues sikit-learning"
      ]
    },
    {
      "cell_type": "code",
      "metadata": {
        "id": "1tIKxzlm9SXP",
        "colab": {
          "base_uri": "https://localhost:8080/"
        },
        "outputId": "7d46d567-d70a-4915-b8c4-e402184bbf21"
      },
      "source": [
        "# Fitting Logistic Regression to the Training set\n",
        "from sklearn.linear_model import LogisticRegression\n",
        "classifier = LogisticRegression(random_state = 0, max_iter=2000)\n",
        "classifier.fit(train_set_x.T, np.squeeze(train_set_y.T))\n",
        "print(\"train accuracy: \" + str(classifier.score(train_set_x.T, np.squeeze(train_set_y.T))))\n",
        "print(\"test accuracy: \" + str(classifier.score(test_set_x.T, np.squeeze(test_set_y.T))))"
      ],
      "execution_count": null,
      "outputs": [
        {
          "output_type": "stream",
          "text": [
            "train accuracy: 1.0\n",
            "test accuracy: 0.72\n"
          ],
          "name": "stdout"
        }
      ]
    },
    {
      "cell_type": "markdown",
      "metadata": {
        "id": "1ZGwosiRDT6W"
      },
      "source": [
        "### 4.5 - Prediciton: predict(w, b, X)"
      ]
    },
    {
      "cell_type": "code",
      "metadata": {
        "id": "9zS3hUrKM0ap"
      },
      "source": [
        "def predict(w, b, X):\n",
        "    \n",
        "    \"\"\"\n",
        "    # Using learned logistic regression parameters (w, b) to predict\n",
        "    # Arguments: w, b, X \n",
        "    # Returns: Y_prediction\n",
        "    \"\"\"\n",
        "    #只會有w,b,X，用來找出Y-hat，但是不會有Y,因為式test\n",
        "    \n",
        "    m = X.shape[1] #取出資料筆數\n",
        "    Y_prediction = np.zeros((1,m))\n",
        "    w = w.reshape(X.shape[0], 1)\n",
        "    \n",
        "    A = sigmoid(np.dot(w.T,X)+b)\n",
        "    \n",
        "    for i in range(A.shape[1]):\n",
        "        \n",
        "        if A[0, i] > 0.5:\n",
        "            Y_prediction[0, i] = 1\n",
        "        else:\n",
        "            Y_prediction[0, i] = 0\n",
        "    \n",
        "    assert(Y_prediction.shape == (1, m))\n",
        "    \n",
        "    return Y_prediction"
      ],
      "execution_count": null,
      "outputs": []
    },
    {
      "cell_type": "code",
      "metadata": {
        "id": "E2c4Od-SPkfH",
        "colab": {
          "base_uri": "https://localhost:8080/"
        },
        "outputId": "32e40baf-3c1a-4a30-ede3-95cfb693d018"
      },
      "source": [
        "w = np.array([[0.3224579],[-0.11406775]])\n",
        "b = 0.5\n",
        "X = np.array([[-1.5,1.1,-2.2],[3.2,-2.,1.1]])\n",
        "print (\"predictions = \" + str(predict(w, b, X)))"
      ],
      "execution_count": null,
      "outputs": [
        {
          "output_type": "stream",
          "text": [
            "predictions = [[0. 1. 0.]]\n"
          ],
          "name": "stdout"
        }
      ]
    },
    {
      "cell_type": "markdown",
      "metadata": {
        "id": "5xaaWTAUM119"
      },
      "source": [
        "## 5 - Merge all functions into a model"
      ]
    },
    {
      "cell_type": "code",
      "metadata": {
        "id": "J_qdhl3YM2vJ"
      },
      "source": [
        "def model(X_train, Y_train, X_test, Y_test, num_iterations = 2000, learning_rate = 0.5, print_cost = False):\n",
        "    #開始訓練model\n",
        "    \"\"\"\n",
        "    # Builds the logistic regression model\n",
        "    # Arguments: X_train, Y_train, X_test, Y_test, num_iterations, learning_rate, print_cost\n",
        "    # Returns:d -- dictionary containing information about the model.\n",
        "    \"\"\"\n",
        "    #先初始化w,b\n",
        "    w, b = initialize_with_zeros(X_train.shape[0]) #需要X的維度 \n",
        "\n",
        "    parameters, grads, costs = optimize(w, b, X_train, Y_train, num_iterations, learning_rate, print_cost = False)\n",
        "    #w,b會在parameters中\n",
        "    w = parameters[\"w\"]\n",
        "    b = parameters[\"b\"]\n",
        "    \n",
        "    Y_prediction_test = predict(w, b, X_test)\n",
        "    Y_prediction_train = predict(w, b, X_train)\n",
        "\n",
        "    print(\"train accuracy: {} %\".format(100 - np.mean(np.abs(Y_prediction_train - Y_train)) * 100))\n",
        "    print(\"test accuracy: {} %\".format(100 - np.mean(np.abs(Y_prediction_test - Y_test)) * 100))\n",
        "\n",
        "    \n",
        "    d = {\"costs\": costs,\n",
        "        \"Y_prediction_test\": Y_prediction_test, \n",
        "        \"Y_prediction_train\" : Y_prediction_train, \n",
        "        \"w\" : w, \n",
        "        \"b\" : b,\n",
        "        \"learning_rate\" : learning_rate,\n",
        "        \"num_iterations\": num_iterations}\n",
        "    \n",
        "    return d"
      ],
      "execution_count": null,
      "outputs": []
    },
    {
      "cell_type": "code",
      "metadata": {
        "id": "8eS88rwCPo00",
        "colab": {
          "base_uri": "https://localhost:8080/"
        },
        "outputId": "b9c1c33e-a8d1-4c7a-fa00-ffaf97afbe1c"
      },
      "source": [
        "d = model(train_set_x, train_set_y, test_set_x, test_set_y, num_iterations = 2000, learning_rate = 0.005, print_cost = True)\n",
        "#放入的是縮小後x,y的train與test"
      ],
      "execution_count": null,
      "outputs": [
        {
          "output_type": "stream",
          "text": [
            "train accuracy: 99.04306220095694 %\n",
            "test accuracy: 70.0 %\n"
          ],
          "name": "stdout"
        }
      ]
    },
    {
      "cell_type": "code",
      "metadata": {
        "id": "LhA4ux1gPrPq",
        "colab": {
          "base_uri": "https://localhost:8080/",
          "height": 295
        },
        "outputId": "69c26b36-9e00-4b85-e2b2-28ca069f55c8"
      },
      "source": [
        "costs = np.squeeze(d['costs'])\n",
        "plt.plot(costs)\n",
        "plt.ylabel('cost')\n",
        "plt.xlabel('iterations (per hundreds)')\n",
        "plt.title(\"Learning rate =\" + str(d[\"learning_rate\"]))\n",
        "plt.show()"
      ],
      "execution_count": null,
      "outputs": [
        {
          "output_type": "display_data",
          "data": {
            "image/png": "[encoded data removed]",
            "text/plain": [
              "<Figure size 432x288 with 1 Axes>"
            ]
          },
          "metadata": {
            "tags": [],
            "needs_background": "light"
          }
        }
      ]
    },
    {
      "cell_type": "markdown",
      "metadata": {
        "id": "Zf2wHUB7QP7b"
      },
      "source": [
        "## 6 - Further analysis"
      ]
    },
    {
      "cell_type": "code",
      "metadata": {
        "id": "XP7P3mOEP0Yy",
        "colab": {
          "base_uri": "https://localhost:8080/",
          "height": 582
        },
        "outputId": "a225b295-bcdf-4a4f-e2f7-26dff85d50f6"
      },
      "source": [
        "learning_rates = [0.01, 0.001, 0.0001]\n",
        "models = {}\n",
        "for i in learning_rates:\n",
        "    print (\"learning rate is: \" + str(i))\n",
        "    models[str(i)] = model(train_set_x, train_set_y, test_set_x, test_set_y, num_iterations = 1500, learning_rate = i, print_cost = False)\n",
        "    print ('\\n' + \"-------------------------------------------------------\" + '\\n')\n",
        "\n",
        "for i in learning_rates:\n",
        "    plt.plot(np.squeeze(models[str(i)][\"costs\"]), label= str(models[str(i)][\"learning_rate\"]))\n",
        "\n",
        "plt.ylabel('cost')\n",
        "plt.xlabel('iterations (hundreds)')\n",
        "\n",
        "legend = plt.legend(loc='upper center', shadow=True)\n",
        "frame = legend.get_frame()\n",
        "frame.set_facecolor('0.90')\n",
        "plt.show()"
      ],
      "execution_count": null,
      "outputs": [
        {
          "output_type": "stream",
          "text": [
            "learning rate is: 0.01\n",
            "train accuracy: 99.52153110047847 %\n",
            "test accuracy: 68.0 %\n",
            "\n",
            "-------------------------------------------------------\n",
            "\n",
            "learning rate is: 0.001\n",
            "train accuracy: 88.99521531100478 %\n",
            "test accuracy: 64.0 %\n",
            "\n",
            "-------------------------------------------------------\n",
            "\n",
            "learning rate is: 0.0001\n",
            "train accuracy: 68.42105263157895 %\n",
            "test accuracy: 36.0 %\n",
            "\n",
            "-------------------------------------------------------\n",
            "\n"
          ],
          "name": "stdout"
        },
        {
          "output_type": "display_data",
          "data": {
            "image/png": "[encoded data removed]",
            "text/plain": [
              "<Figure size 432x288 with 1 Axes>"
            ]
          },
          "metadata": {
            "tags": [],
            "needs_background": "light"
          }
        }
      ]
    },
    {
      "cell_type": "markdown",
      "metadata": {
        "id": "AXW15yTGSWbb"
      },
      "source": [
        "###梯度消失的話，越靠近input的layer會越嚴重，因為梯度下降是反向累積的，會導致神經網路無法更新(怎摸更新都一樣)。\n",
        "\n",
        "###W=(4,3) w的維度4代表該層有4個node，3代表前一層(input)有3個node。"
      ]
    }
  ]
}