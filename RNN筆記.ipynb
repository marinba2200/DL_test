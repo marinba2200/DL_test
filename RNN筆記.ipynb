{
  "nbformat": 4,
  "nbformat_minor": 0,
  "metadata": {
    "colab": {
      "name": "RNN筆記.ipynb",
      "provenance": [],
      "authorship_tag": "ABX9TyNn5ft/kdp61FBxgxys6hZf",
      "include_colab_link": true
    },
    "kernelspec": {
      "name": "python3",
      "display_name": "Python 3"
    }
  },
  "cells": [
    {
      "cell_type": "markdown",
      "metadata": {
        "id": "view-in-github",
        "colab_type": "text"
      },
      "source": [
        "<a href=\"https://colab.research.google.com/github/marinba2200/DL_test/blob/main/RNN%E7%AD%86%E8%A8%98.ipynb\" target=\"_parent\"><img src=\"https://colab.research.google.com/assets/colab-badge.svg\" alt=\"Open In Colab\"/></a>"
      ]
    },
    {
      "cell_type": "markdown",
      "metadata": {
        "id": "OJdRt1oJPSNm"
      },
      "source": [
        "###structure vs. unstructure data\r\n",
        "\r\n"
      ]
    },
    {
      "cell_type": "markdown",
      "metadata": {
        "id": "qgO-633aPUVt"
      },
      "source": [
        "若是可以整理成excel表那種，就是結構式資料\r\n",
        "\r\n",
        "非結構式資料：聲音或影像"
      ]
    },
    {
      "cell_type": "markdown",
      "metadata": {
        "id": "yp8rcBQIQdBB"
      },
      "source": [
        "### RNN"
      ]
    },
    {
      "cell_type": "markdown",
      "metadata": {
        "id": "J7sYItEpQNPq"
      },
      "source": [
        "NN架構、ANN架構：就像長期記憶，權重一定會留著。(權重等同結果)\r\n",
        "\r\n",
        "RNN就像短期記憶。\r\n",
        "\r\n",
        "CNN就像枕葉(影像)。"
      ]
    },
    {
      "cell_type": "markdown",
      "metadata": {
        "id": "2tkcN2aRQgNh"
      },
      "source": [
        "資料是有時間性的，序列資料。完整資料的時序也會放入，所以不會用random。\r\n",
        "\r\n"
      ]
    },
    {
      "cell_type": "markdown",
      "metadata": {
        "id": "jkMW-dI4ee9z"
      },
      "source": [
        "共有五種情況：(有些像encoder與decoder)\r\n",
        "\r\n",
        "o to o: 若去掉y-hat就是ANN了。\r\n",
        "\r\n",
        "m to o:就像股價，每天鑰預測的是下一天的，所以會用過去的慢慢農上去。\r\n",
        "\r\n",
        "o to m:前一次結果會刺激下一次結果。\r\n",
        "\r\n",
        "m to m: \r\n",
        "\r\n",
        "Tx==Ty)輸入一個x就輸出一個y。\r\n",
        "\r\n",
        "Tx=!Ty)把x先一個一個通通丟進去(這段到第一個y出現，等同o to m的架構)，再一個一個輸出y。\r\n",
        "\r\n",
        "\r\n"
      ]
    },
    {
      "cell_type": "code",
      "metadata": {
        "id": "Ki2lNrPqfnTf"
      },
      "source": [
        ""
      ],
      "execution_count": null,
      "outputs": []
    }
  ]
}