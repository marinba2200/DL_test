{
  "nbformat": 4,
  "nbformat_minor": 0,
  "metadata": {
    "colab": {
      "name": "1216_3_RNN Shapes.ipynb",
      "provenance": [],
      "collapsed_sections": [],
      "include_colab_link": true
    },
    "kernelspec": {
      "name": "python3",
      "display_name": "Python 3"
    }
  },
  "cells": [
    {
      "cell_type": "markdown",
      "metadata": {
        "id": "view-in-github",
        "colab_type": "text"
      },
      "source": [
        "<a href=\"https://colab.research.google.com/github/marinba2200/DL_test/blob/main/1216_3_RNN_Shapes.ipynb\" target=\"_parent\"><img src=\"https://colab.research.google.com/assets/colab-badge.svg\" alt=\"Open In Colab\"/></a>"
      ]
    },
    {
      "cell_type": "markdown",
      "metadata": {
        "id": "ljs9kLf_QVvh"
      },
      "source": [
        "### Import library"
      ]
    },
    {
      "cell_type": "code",
      "metadata": {
        "id": "Jl8zf2weDiLM"
      },
      "source": [
        "from tensorflow.keras.layers import Input, SimpleRNN, Dense, Flatten\n",
        "from tensorflow.keras.models import Model\n",
        "from tensorflow.keras.optimizers import SGD, Adam\n",
        "\n",
        "import numpy as np\n",
        "import pandas as pd\n",
        "import matplotlib.pyplot as plt"
      ],
      "execution_count": null,
      "outputs": []
    },
    {
      "cell_type": "markdown",
      "metadata": {
        "id": "0WDBoojsQkb8"
      },
      "source": [
        "### Things you should automatically know and have memorized\r\n",
        "*   N = number of samples\r\n",
        "*   T = sequence length (時間上)\r\n",
        "*   D = number of input features (空間上)\r\n",
        "*   M = number of hidden units (RNN變形會用到) 參考RNN投影片15,16\r\n",
        "*   K = number of output units (RNN變形會用到)"
      ]
    },
    {
      "cell_type": "code",
      "metadata": {
        "id": "XUM469Z7Dndx"
      },
      "source": [
        "# Make some data\n",
        "N = 1\n",
        "T = 10 #input數量 (輸入跟輸出的T是否要一樣，要看是哪一個種類的sequencial data)\n",
        "D = 3 #input中每筆的屬性量 (如果是二元分類的輸出，D=2。如果是有一萬種單字的文章，D=10,000。看有幾種，因為會給input做one-hot encoding，所以D會=單字種類數)\n",
        "M = 5 #每層有幾個神經元\n",
        "K = 2 #最後一個Dense層的神經元量"
      ],
      "execution_count": null,
      "outputs": []
    },
    {
      "cell_type": "code",
      "metadata": {
        "id": "F8ZZ1E2TDxOt"
      },
      "source": [
        "# Make an RNN\n",
        "i = Input(shape=(T, D))\n",
        "x = SimpleRNN(M)(i)\n",
        "x = Dense(K)(x)\n",
        "\n",
        "model = Model(i, x)"
      ],
      "execution_count": null,
      "outputs": []
    },
    {
      "cell_type": "code",
      "metadata": {
        "id": "hLjIp7eZEApH",
        "colab": {
          "base_uri": "https://localhost:8080/"
        },
        "outputId": "49f0d586-b8e9-4483-ff90-39d8a96c4a3b"
      },
      "source": [
        "# Get the output\n",
        "X = np.random.randn(N, T, D)\n",
        "Yhat = model.predict(X) #最後出來多大，就看K有多大\n",
        "print(Yhat)"
      ],
      "execution_count": null,
      "outputs": [
        {
          "output_type": "stream",
          "text": [
            "[[-0.9151237 -1.7989362]]\n"
          ],
          "name": "stdout"
        }
      ]
    },
    {
      "cell_type": "code",
      "metadata": {
        "id": "V-3JmKEgEGc9",
        "colab": {
          "base_uri": "https://localhost:8080/"
        },
        "outputId": "5cc3de99-697c-4fcd-af5f-6882600237fb"
      },
      "source": [
        "# See if we can replicate this output\n",
        "# Get the weights first\n",
        "model.summary()\n",
        "\n",
        "# ((5+3)+1)*5=45, (5+1)*2=12"
      ],
      "execution_count": null,
      "outputs": [
        {
          "output_type": "stream",
          "text": [
            "Model: \"model\"\n",
            "_________________________________________________________________\n",
            "Layer (type)                 Output Shape              Param #   \n",
            "=================================================================\n",
            "input_1 (InputLayer)         [(None, 10, 3)]           0         \n",
            "_________________________________________________________________\n",
            "simple_rnn (SimpleRNN)       (None, 5)                 45        \n",
            "_________________________________________________________________\n",
            "dense (Dense)                (None, 2)                 12        \n",
            "=================================================================\n",
            "Total params: 57\n",
            "Trainable params: 57\n",
            "Non-trainable params: 0\n",
            "_________________________________________________________________\n"
          ],
          "name": "stdout"
        }
      ]
    },
    {
      "cell_type": "code",
      "metadata": {
        "id": "Q_FobnZqEbtv",
        "colab": {
          "base_uri": "https://localhost:8080/"
        },
        "outputId": "77c189d9-4e3b-4deb-a8c4-b32c4d31f6dc"
      },
      "source": [
        "# See what's returned\n",
        "model.layers[1].get_weights()"
      ],
      "execution_count": null,
      "outputs": [
        {
          "output_type": "execute_result",
          "data": {
            "text/plain": [
              "[array([[ 0.4778772 , -0.32349855,  0.07877702, -0.35469264,  0.6788556 ],\n",
              "        [-0.53654456, -0.86100554,  0.4016326 , -0.7120358 , -0.03198963],\n",
              "        [-0.39228415,  0.5323381 ,  0.49781328,  0.20075423,  0.17226177]],\n",
              "       dtype=float32),\n",
              " array([[ 0.84640265, -0.03395028,  0.2248157 ,  0.47656727,  0.06922216],\n",
              "        [ 0.2682192 , -0.14302172, -0.77366066, -0.04106214, -0.5544066 ],\n",
              "        [ 0.17540893,  0.7945424 ,  0.24006842, -0.305359  , -0.4325012 ],\n",
              "        [-0.36929578, -0.13228607,  0.31786987,  0.58826184, -0.6316865 ],\n",
              "        [ 0.21098228, -0.5741038 ,  0.43844408, -0.57610893, -0.31899318]],\n",
              "       dtype=float32),\n",
              " array([0., 0., 0., 0., 0.], dtype=float32)]"
            ]
          },
          "metadata": {
            "tags": []
          },
          "execution_count": 6
        }
      ]
    },
    {
      "cell_type": "code",
      "metadata": {
        "id": "6FWsTeCJEjNc",
        "colab": {
          "base_uri": "https://localhost:8080/"
        },
        "outputId": "b29b821e-eb17-42b9-adf1-8381f84d68e4"
      },
      "source": [
        "# Check their shapes\n",
        "# Should make sense\n",
        "# First output is input > hidden\n",
        "# Second output is hidden > hidden\n",
        "# Third output is bias term (vector of length M)\n",
        "a, b, c = model.layers[1].get_weights()\n",
        "print(a.shape, b.shape, c.shape) #前面是權重，最後一個是bias"
      ],
      "execution_count": null,
      "outputs": [
        {
          "output_type": "stream",
          "text": [
            "(3, 5) (5, 5) (5,)\n"
          ],
          "name": "stdout"
        }
      ]
    },
    {
      "cell_type": "code",
      "metadata": {
        "id": "eCU8mjC2Ew8C"
      },
      "source": [
        "Wx, Wh, bh = model.layers[1].get_weights()\n",
        "Wo, bo = model.layers[2].get_weights()"
      ],
      "execution_count": null,
      "outputs": []
    },
    {
      "cell_type": "code",
      "metadata": {
        "id": "Z7IT6dz8EV-B",
        "colab": {
          "base_uri": "https://localhost:8080/"
        },
        "outputId": "f9505411-9f89-4079-cc9f-6b542577218c"
      },
      "source": [
        "h_last = np.zeros(5) # initial hidden state\n",
        "x = X[0] # the one and only sample\n",
        "Yhats = [] # where we store the outputs\n",
        "\n",
        "for t in range(T):\n",
        "  h = np.tanh(x[t].dot(Wx) + h_last.dot(Wh) + bh)\n",
        "  y = h.dot(Wo) + bo # we only care about this value on the last iteration\n",
        "  Yhats.append(y)\n",
        "  \n",
        "  # important: assign h to h_last\n",
        "  h_last = h\n",
        "\n",
        "# print the final output\n",
        "Yhats = np.reshape(Yhats, (-1, 2))\n",
        "print(Yhats.shape)\n",
        "print(Yhats[-1])"
      ],
      "execution_count": null,
      "outputs": [
        {
          "output_type": "stream",
          "text": [
            "(10, 2)\n",
            "[-0.91512377 -1.79893616]\n"
          ],
          "name": "stdout"
        }
      ]
    },
    {
      "cell_type": "code",
      "metadata": {
        "id": "1ZlTHzrJU_0n",
        "colab": {
          "base_uri": "https://localhost:8080/"
        },
        "outputId": "0c30af51-3a9e-499d-8f00-76c8dea421c8"
      },
      "source": [
        "print(Yhat)"
      ],
      "execution_count": null,
      "outputs": [
        {
          "output_type": "stream",
          "text": [
            "[[-0.9151237 -1.7989362]]\n"
          ],
          "name": "stdout"
        }
      ]
    },
    {
      "cell_type": "markdown",
      "metadata": {
        "id": "DYvW6MaBTZwP"
      },
      "source": [
        "### Exercise: \r\n",
        "* calculate the output for multiple samples at once (N > 1)"
      ]
    },
    {
      "cell_type": "code",
      "metadata": {
        "id": "pFewO52OTsWD"
      },
      "source": [
        "# Make some data\r\n",
        "N = 4\r\n",
        "T = 10\r\n",
        "D = 3\r\n",
        "M = 5\r\n",
        "K = 2"
      ],
      "execution_count": null,
      "outputs": []
    },
    {
      "cell_type": "code",
      "metadata": {
        "id": "9o131XdUT0gW"
      },
      "source": [
        "# Make an RNN\r\n",
        "i = Input(shape=(T, D))\r\n",
        "x = SimpleRNN(M)(i)\r\n",
        "x = Dense(K)(x)\r\n",
        "\r\n",
        "model = Model(i, x)"
      ],
      "execution_count": null,
      "outputs": []
    },
    {
      "cell_type": "code",
      "metadata": {
        "colab": {
          "base_uri": "https://localhost:8080/"
        },
        "id": "xQcMAY7mT1g0",
        "outputId": "63447d40-8e79-4e65-e858-4efd411832c4"
      },
      "source": [
        "# Get the output\r\n",
        "X = np.random.randn(N, T, D)\r\n",
        "Yhat = model.predict(X)\r\n",
        "print(Yhat)"
      ],
      "execution_count": null,
      "outputs": [
        {
          "output_type": "stream",
          "text": [
            "[[ 0.9076325   0.19478619]\n",
            " [ 0.43865803  0.28718203]\n",
            " [-0.43363115  0.18769965]\n",
            " [ 0.3015159  -0.18593629]]\n"
          ],
          "name": "stdout"
        }
      ]
    },
    {
      "cell_type": "code",
      "metadata": {
        "colab": {
          "base_uri": "https://localhost:8080/"
        },
        "id": "lPIPAUOOT3yl",
        "outputId": "5e872c6b-26fc-4bd8-f201-c0b337e99f37"
      },
      "source": [
        "# See if we can replicate this output\r\n",
        "# Get the weights first\r\n",
        "model.summary()\r\n",
        "\r\n",
        "# ((5+3)+1)*5=45, (5+1)*2=12"
      ],
      "execution_count": null,
      "outputs": [
        {
          "output_type": "stream",
          "text": [
            "Model: \"model_1\"\n",
            "_________________________________________________________________\n",
            "Layer (type)                 Output Shape              Param #   \n",
            "=================================================================\n",
            "input_2 (InputLayer)         [(None, 10, 3)]           0         \n",
            "_________________________________________________________________\n",
            "simple_rnn_1 (SimpleRNN)     (None, 5)                 45        \n",
            "_________________________________________________________________\n",
            "dense_1 (Dense)              (None, 2)                 12        \n",
            "=================================================================\n",
            "Total params: 57\n",
            "Trainable params: 57\n",
            "Non-trainable params: 0\n",
            "_________________________________________________________________\n"
          ],
          "name": "stdout"
        }
      ]
    },
    {
      "cell_type": "code",
      "metadata": {
        "colab": {
          "base_uri": "https://localhost:8080/"
        },
        "id": "WKbCAPRPT65M",
        "outputId": "512a695f-ba0c-4b44-ba24-210f10a83096"
      },
      "source": [
        "# Check their shapes\r\n",
        "# Should make sense\r\n",
        "# First output is input > hidden\r\n",
        "# Second output is hidden > hidden\r\n",
        "# Third output is bias term (vector of length M)\r\n",
        "a, b, c = model.layers[1].get_weights()\r\n",
        "print(a.shape, b.shape, c.shape)"
      ],
      "execution_count": null,
      "outputs": [
        {
          "output_type": "stream",
          "text": [
            "(3, 5) (5, 5) (5,)\n"
          ],
          "name": "stdout"
        }
      ]
    },
    {
      "cell_type": "code",
      "metadata": {
        "id": "bXvm8DuCUG7f"
      },
      "source": [
        "Wx, Wh, bh = model.layers[1].get_weights()\r\n",
        "Wo, bo = model.layers[2].get_weights()"
      ],
      "execution_count": null,
      "outputs": []
    },
    {
      "cell_type": "code",
      "metadata": {
        "colab": {
          "base_uri": "https://localhost:8080/"
        },
        "id": "436fel57ULvs",
        "outputId": "5823cc77-dcbd-4f5b-f283-88cd58acee52"
      },
      "source": [
        "h_last = np.zeros(5) # initial hidden state\r\n",
        "Yhats = [] # where we store the outputs\r\n",
        "\r\n",
        "for i in range(N):\r\n",
        "  x = X[i]\r\n",
        "\r\n",
        "  for t in range(T):\r\n",
        "    h = np.tanh(x[t].dot(Wx) + h_last.dot(Wh) + bh)\r\n",
        "    y = h.dot(Wo) + bo # we only care about this value on the last iteration\r\n",
        "  \r\n",
        "    # important: assign h to h_last\r\n",
        "    h_last = h\r\n",
        "  \r\n",
        "  Yhats.append(y)\r\n",
        "\r\n",
        "\r\n",
        "# print the final output\r\n",
        "Yhats = np.reshape(Yhats, (-1, 2))\r\n",
        "print(Yhats.shape)\r\n",
        "print(Yhats)"
      ],
      "execution_count": null,
      "outputs": [
        {
          "output_type": "stream",
          "text": [
            "(4, 2)\n",
            "[[ 0.90763253  0.19478625]\n",
            " [ 0.43422689  0.28975614]\n",
            " [-0.43354553  0.18817008]\n",
            " [ 0.29575148 -0.19132254]]\n"
          ],
          "name": "stdout"
        }
      ]
    },
    {
      "cell_type": "code",
      "metadata": {
        "colab": {
          "base_uri": "https://localhost:8080/"
        },
        "id": "tfaCJJt5U2UO",
        "outputId": "93f1a362-36ae-441e-f69a-d211640668f7"
      },
      "source": [
        "print(Yhat)"
      ],
      "execution_count": null,
      "outputs": [
        {
          "output_type": "stream",
          "text": [
            "[[ 0.9076325   0.19478619]\n",
            " [ 0.43865803  0.28718203]\n",
            " [-0.43363115  0.18769965]\n",
            " [ 0.3015159  -0.18593629]]\n"
          ],
          "name": "stdout"
        }
      ]
    },
    {
      "cell_type": "markdown",
      "metadata": {
        "id": "cIuk1evMZ4RH"
      },
      "source": [
        "### Exercise"
      ]
    },
    {
      "cell_type": "code",
      "metadata": {
        "id": "iHvCUGLIU6Lk"
      },
      "source": [
        "# Make some data\r\n",
        "N = 4\r\n",
        "T = 10\r\n",
        "D = 3\r\n",
        "M = 5\r\n",
        "K = 2"
      ],
      "execution_count": null,
      "outputs": []
    },
    {
      "cell_type": "code",
      "metadata": {
        "id": "XTZUqTmiZ7p6"
      },
      "source": [
        "# Make an RNN\r\n",
        "i = Input(shape=(T, D))\r\n",
        "x = SimpleRNN(M)(i)\r\n",
        "x = Dense(K)(x)\r\n",
        "\r\n",
        "model = Model(i, x)"
      ],
      "execution_count": null,
      "outputs": []
    },
    {
      "cell_type": "code",
      "metadata": {
        "id": "G_XTtF-2Z7mZ"
      },
      "source": [
        "# Get the output\r\n",
        "X = np.random.randn(N, T, D)\r\n",
        "Yhat = model.predict(X)\r\n",
        "print(Yhat)"
      ],
      "execution_count": null,
      "outputs": []
    },
    {
      "cell_type": "code",
      "metadata": {
        "id": "VKcRgnQ7Z7iz"
      },
      "source": [
        "# See if we can replicate this output\r\n",
        "# Get the weights first\r\n",
        "model.summary()\r\n",
        "\r\n",
        "# ((5+3)+1)*5=45, (5+1)*2=12"
      ],
      "execution_count": null,
      "outputs": []
    },
    {
      "cell_type": "code",
      "metadata": {
        "id": "Ky4tvK67Z7dN"
      },
      "source": [
        "# Check their shapes\r\n",
        "# Should make sense\r\n",
        "# First output is input > hidden\r\n",
        "# Second output is hidden > hidden\r\n",
        "# Third output is bias term (vector of length M)\r\n",
        "a, b, c = model.layers[1].get_weights()\r\n",
        "print(a.shape, b.shape, c.shape)"
      ],
      "execution_count": null,
      "outputs": []
    },
    {
      "cell_type": "code",
      "metadata": {
        "id": "D0pZxuJfZ7WA"
      },
      "source": [
        "Wx, Wh, bh = model.layers[1].get_weights()\r\n",
        "Wo, bo = model.layers[2].get_weights()"
      ],
      "execution_count": null,
      "outputs": []
    },
    {
      "cell_type": "code",
      "metadata": {
        "id": "2FroIUkaaLt_"
      },
      "source": [
        "h_last = np.zeros(5) # initial hidden state\r\n",
        "Yhats = [] # where we store the outputs\r\n",
        "\r\n",
        "for i in range(N): #input\r\n",
        "  x = X[i]\r\n",
        "\r\n",
        "  for t in range(T): #時間\r\n",
        "    h = np.tanh(x[t].dot(Wx) + h_last.dot(Wh) + bh)\r\n",
        "    y = h.dot(Wo) + bo # we only care about this value on the last iteration\r\n",
        "  \r\n",
        "    # important: assign h to h_last\r\n",
        "    h_last = h\r\n",
        "  \r\n",
        "  Yhats.append(y)\r\n",
        "\r\n",
        "\r\n",
        "# print the final output\r\n",
        "Yhats = np.reshape(Yhats, (-1, 2))\r\n",
        "print(Yhats.shape)\r\n",
        "print(Yhats)"
      ],
      "execution_count": null,
      "outputs": []
    },
    {
      "cell_type": "code",
      "metadata": {
        "id": "7SePJxTTaODd"
      },
      "source": [
        "print(Yhat)"
      ],
      "execution_count": null,
      "outputs": []
    }
  ]
}